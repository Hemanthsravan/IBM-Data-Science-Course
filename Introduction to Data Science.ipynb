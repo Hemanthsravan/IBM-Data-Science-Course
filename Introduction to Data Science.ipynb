{
 "cells": [
  {
   "cell_type": "markdown",
   "id": "12e7c17a",
   "metadata": {},
   "source": [
    "- Data Science is a multidisciplinary field that enables us to make insights from the data available , analyze the data and make patterns or visualizations out of it. We can utilize number of tools available for data science such as Python, Tableau to make data analysis and science behind data to make a story out of the data to communicate pour findings to the relevant stakeholders and make data driven decisions elated to business growth and clients enhancements.\n",
    "\n",
    "- Cloud can also be integrated with data science where we can store data in cloud storage and utilize cloud tools available. As IBM offers IBM Cloud, Amazon offers AWS and Google offers Google Cloud Platforms.I "
   ]
  },
  {
   "cell_type": "markdown",
   "id": "d9d42e5d",
   "metadata": {},
   "source": [
    "### Foundations of Big Data Concepts \n",
    "\n",
    "\n",
    "- Big data refers to the dynamic, large and disparate volumes of data being created by people, tools and machines.\n",
    "\n",
    "- It requires new, innovative and scalable technology to collect host and analytically process tge vast amount of data gathered in order to derive real-time business insights that relate to consumers, risk, profit, performance, productivity management and enhanced shareholder value.\n",
    "\n",
    "- Big data has several terminologies such as Velocity, Volume, Variety, Veracity ad Value. These are the V's of big data.\n",
    "\n",
    "   - Velocity - The speed at which data accumulates. Real-time streaming, local and cloud based technologies can process information very quickly.\n",
    "   - Volume - The scale of the data, the increase in the amount of data stored.\n",
    "   - Variety - It is the diversity of the data such as structured and unstructured data. Variety also reflects data comes from various sources.\n",
    "   - Veracity - The quality and origin of data and its conformity to facts and accuracy. It includes consistency, completeness, integrity and ambiguity. It look out for the accuracy in the data.\n",
    "   - Value - It is our ability and need to turn data into value.\n",
    "   \n",
    "\n",
    "- In youtube, videos are being uploaded every second rapidly. This can be seen as an example of velocity.\n",
    "- The world population and vast majority are now using digital devices. These devices stored data at huge volumes such as 2.5 quintillion bytes of data everyday - This is an example of volume\n",
    "- Variety has tabular data, text, pictures, film sound, health data from devices connected from IoT.\n",
    "- Veracity - 80 percent of data is considered to be unstructured and we must devise ways to produce reliable and accurate insights. Data myst be categorized, analyzed and visualized.\n",
    "\n",
    "\n",
    "- Tools such as Apache Spark, Hadoop and its ecosystem provide ways to extract, load and analyze, process data across distributed machines and compute resources , providing insights and knowledge.\n"
   ]
  },
  {
   "cell_type": "markdown",
   "id": "f77ff42c",
   "metadata": {},
   "source": [
    "- Data Mining is the process of automatically searching and analyzing data , discovering previously unrevealed patterns. It involves pre-processing the data , prepare it and transforming it into an appropriate pattern. Insights and patterns are mined and extracted using various tool and techniques ranging from simple data visualization tools to ML and statistical Models.\n",
    "\n",
    "- ML is a subset of AI that uses computer algorithms to analyze data and make intelligent decisions based on what it has learned, without being explicitly programmed. ML algorithms are trained with large sets of data and they learn from examples. ML enables machines to solve problems on their own and make accurate predictions using provided data.\n",
    "\n",
    "- Deep Learning is a specialized subset of ML that uses layered neural networks to simulate human decision making. DL algorithms can label and categorize info and identify patterns. It enables AI systems to continuously learn on the job and improve accuracy and quality of results.\n",
    "\n"
   ]
  },
  {
   "cell_type": "code",
   "execution_count": null,
   "id": "7e30d53a",
   "metadata": {},
   "outputs": [],
   "source": []
  },
  {
   "cell_type": "markdown",
   "id": "3549d8e6",
   "metadata": {},
   "source": []
  }
 ],
 "metadata": {
  "kernelspec": {
   "display_name": "Python 3",
   "language": "python",
   "name": "python3"
  },
  "language_info": {
   "codemirror_mode": {
    "name": "ipython",
    "version": 3
   },
   "file_extension": ".py",
   "mimetype": "text/x-python",
   "name": "python",
   "nbconvert_exporter": "python",
   "pygments_lexer": "ipython3",
   "version": "3.8.8"
  }
 },
 "nbformat": 4,
 "nbformat_minor": 5
}
